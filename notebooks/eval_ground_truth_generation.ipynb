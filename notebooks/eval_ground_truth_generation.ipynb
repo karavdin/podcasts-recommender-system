{
 "cells": [
  {
   "cell_type": "code",
   "execution_count": 1,
   "id": "8ce389b4-e8ea-4258-9a2d-4c8685f6bb56",
   "metadata": {},
   "outputs": [],
   "source": [
    "from tqdm.auto import tqdm\n",
    "import json\n",
    "import pandas as pd\n",
    "pd.set_option(\"display.max_colwidth\", None)"
   ]
  },
  {
   "cell_type": "markdown",
   "id": "7c96883a-1a94-423a-87d3-63a87a2a39f7",
   "metadata": {},
   "source": [
    "# Read input data"
   ]
  },
  {
   "cell_type": "code",
   "execution_count": 2,
   "id": "8601d479-cc3b-48fa-9890-fc86eb1554b1",
   "metadata": {},
   "outputs": [],
   "source": [
    "file_name = 'podcasts_25k.json' #all data, 14700 podcasts after clearning\n",
    "#file_name = 'podcasts.json' #sample data, 120 podcasts\n",
    "with open(f'../data/processed/{file_name}', 'rt') as f_in:\n",
    "   podcasts = json.load(f_in)"
   ]
  },
  {
   "cell_type": "code",
   "execution_count": null,
   "id": "15d446dc-4974-4fda-8600-c50fc255d2e8",
   "metadata": {},
   "outputs": [],
   "source": []
  },
  {
   "cell_type": "markdown",
   "id": "5e60fb83-18a3-47ca-b610-8a39943bf5fd",
   "metadata": {},
   "source": [
    "# Generate queries with OpenAI "
   ]
  },
  {
   "cell_type": "code",
   "execution_count": 3,
   "id": "f5a520f4-de95-4e35-a7be-a0b5702cce82",
   "metadata": {},
   "outputs": [],
   "source": [
    "prompt_template = \"\"\"\n",
    "You emulate a user who's looking for a podcasts. \n",
    "Formulate 5 search queries this user might ask based on a podcast description to find the podcast. \n",
    "Use as fewer words as possible from the name. \n",
    "Make the query with at least 7 words and be very specific. Do NOT use word \"podcast\"\n",
    "\n",
    "The record:\n",
    "\n",
    "name: {name}\n",
    "description: {description}\n",
    "category: {category}\n",
    "\n",
    "Provide the output in parsable JSON without using code blocks:\n",
    "\n",
    "[\"query1\", \"query2\", ..., \"query5\"]\n",
    "\"\"\".strip()"
   ]
  },
  {
   "cell_type": "code",
   "execution_count": 4,
   "id": "66dd3b8f-6c77-49db-b154-2d6cb693fccb",
   "metadata": {},
   "outputs": [],
   "source": [
    "import os\n",
    "from openai import OpenAI\n",
    "client = OpenAI()"
   ]
  },
  {
   "cell_type": "code",
   "execution_count": 5,
   "id": "c58de8d2-7aa8-41b5-bd01-cdf3c58d34f5",
   "metadata": {},
   "outputs": [],
   "source": [
    "def generate_questions(doc):\n",
    "    prompt = prompt_template.format(**doc)\n",
    "\n",
    "    response = client.chat.completions.create(\n",
    "        model='gpt-4o',\n",
    "        messages=[{\"role\": \"user\", \"content\": prompt}]\n",
    "    )\n",
    "\n",
    "    json_response = response.choices[0].message.content\n",
    "    return json_response"
   ]
  },
  {
   "cell_type": "code",
   "execution_count": 6,
   "id": "d69b417a-02d8-4127-a22e-a71f84b16134",
   "metadata": {},
   "outputs": [],
   "source": [
    "from tqdm.auto import tqdm"
   ]
  },
  {
   "cell_type": "code",
   "execution_count": 7,
   "id": "8f1c213f-67d9-488f-a268-84eba52ee11c",
   "metadata": {},
   "outputs": [
    {
     "data": {
      "application/vnd.jupyter.widget-view+json": {
       "model_id": "06d98f9c32a641c0b48f38596ea54c84",
       "version_major": 2,
       "version_minor": 0
      },
      "text/plain": [
       "  0%|          | 0/30 [00:00<?, ?it/s]"
      ]
     },
     "metadata": {},
     "output_type": "display_data"
    }
   ],
   "source": [
    "results = {}\n",
    "for doc in tqdm(podcasts[14470:14500]): \n",
    "    doc_id = doc['id']\n",
    "    if doc_id in results:\n",
    "        continue\n",
    "\n",
    "    questions = generate_questions(doc)\n",
    "    results[doc_id] = questions"
   ]
  },
  {
   "cell_type": "code",
   "execution_count": 8,
   "id": "5251c142-9c14-4fd7-9631-0afffd16e18a",
   "metadata": {},
   "outputs": [],
   "source": [
    "#results"
   ]
  },
  {
   "cell_type": "code",
   "execution_count": 9,
   "id": "43a066cb-4dd0-4351-93d1-25152ac581d1",
   "metadata": {},
   "outputs": [],
   "source": [
    "#!head '../data/processed/podcasts.json'"
   ]
  },
  {
   "cell_type": "code",
   "execution_count": 10,
   "id": "72b9447c-8bee-4c44-845f-5230ddd2fe79",
   "metadata": {},
   "outputs": [
    {
     "data": {
      "text/plain": [
       "{'id': 'id1350850605',\n",
       " 'name': 'Dressed: The History of Fashion',\n",
       " 'url': 'https://podcasts.apple.com/us/podcast/dressed-the-history-of-fashion/id1350850605',\n",
       " 'studio': 'Dressed Media',\n",
       " 'category': 'Arts',\n",
       " 'episode_count': 503,\n",
       " 'avg_rating': 4.5,\n",
       " 'total_ratings': 1400,\n",
       " 'description': 'With over 8 billion people in the world, we all have one thing in common. Every day we all get dressed. Join Dressed as we explore the social and cultural histories behind the who, what, when of why we wear.'}"
      ]
     },
     "execution_count": 10,
     "metadata": {},
     "output_type": "execute_result"
    }
   ],
   "source": [
    "podcasts[4]"
   ]
  },
  {
   "cell_type": "code",
   "execution_count": 11,
   "id": "ead62a82-460d-4893-bd16-372550b67be2",
   "metadata": {},
   "outputs": [],
   "source": [
    "#results['id1550677342']"
   ]
  },
  {
   "cell_type": "code",
   "execution_count": 12,
   "id": "7c86488b-8dbb-4cff-87cf-23191f1de01b",
   "metadata": {},
   "outputs": [],
   "source": [
    "# import \n",
    "# with open('results.bin', 'rb') as f_in:\n",
    "#     results = pickle.load(f_in)"
   ]
  },
  {
   "cell_type": "code",
   "execution_count": 13,
   "id": "5bd0fa0d-8a81-4b5e-86c0-171ee1346091",
   "metadata": {},
   "outputs": [],
   "source": [
    "parsed_results = {}\n",
    "\n",
    "for doc_id, json_questions in results.items():\n",
    "    parsed_results[doc_id] = json.loads(json_questions)"
   ]
  },
  {
   "cell_type": "code",
   "execution_count": 14,
   "id": "453183ec-0d1c-4011-a335-59ff03fe1c3f",
   "metadata": {},
   "outputs": [],
   "source": [
    "doc_index = {d['id']: d for d in podcasts}"
   ]
  },
  {
   "cell_type": "code",
   "execution_count": 15,
   "id": "5df39012-de58-4f5d-af7c-32f65a9e0234",
   "metadata": {},
   "outputs": [],
   "source": [
    "final_results = []\n",
    "\n",
    "for doc_id, questions in parsed_results.items():\n",
    "    category = doc_index[doc_id]['category']\n",
    "    for q in questions:\n",
    "        final_results.append((q, category, doc_id))"
   ]
  },
  {
   "cell_type": "code",
   "execution_count": 16,
   "id": "f561f799-0218-43ac-883c-abfc61d99976",
   "metadata": {},
   "outputs": [],
   "source": [
    "df = pd.DataFrame(final_results, columns=['query', 'category', 'podcast_id'])\n",
    "df.to_csv('../data/processed/eval_ground-truth-data_1000q_c.csv', index=False)"
   ]
  },
  {
   "cell_type": "code",
   "execution_count": 19,
   "id": "07cc34c7-6417-427a-b898-09d4df7c1757",
   "metadata": {},
   "outputs": [
    {
     "data": {
      "text/html": [
       "<div>\n",
       "<style scoped>\n",
       "    .dataframe tbody tr th:only-of-type {\n",
       "        vertical-align: middle;\n",
       "    }\n",
       "\n",
       "    .dataframe tbody tr th {\n",
       "        vertical-align: top;\n",
       "    }\n",
       "\n",
       "    .dataframe thead th {\n",
       "        text-align: right;\n",
       "    }\n",
       "</style>\n",
       "<table border=\"1\" class=\"dataframe\">\n",
       "  <thead>\n",
       "    <tr style=\"text-align: right;\">\n",
       "      <th></th>\n",
       "      <th>query</th>\n",
       "      <th>category</th>\n",
       "      <th>podcast_id</th>\n",
       "    </tr>\n",
       "  </thead>\n",
       "  <tbody>\n",
       "    <tr>\n",
       "      <th>0</th>\n",
       "      <td>weekly Discord show about computer history and startups</td>\n",
       "      <td>Technology</td>\n",
       "      <td>id1625932222</td>\n",
       "    </tr>\n",
       "    <tr>\n",
       "      <th>1</th>\n",
       "      <td>Oxide hardware bringup discussions every Monday 5pm PT</td>\n",
       "      <td>Technology</td>\n",
       "      <td>id1625932222</td>\n",
       "    </tr>\n",
       "    <tr>\n",
       "      <th>2</th>\n",
       "      <td>technology topics du jour Discord recordings every week</td>\n",
       "      <td>Technology</td>\n",
       "      <td>id1625932222</td>\n",
       "    </tr>\n",
       "    <tr>\n",
       "      <th>3</th>\n",
       "      <td>Oxide hosts diverse tech topics Discord weekly sessions</td>\n",
       "      <td>Technology</td>\n",
       "      <td>id1625932222</td>\n",
       "    </tr>\n",
       "    <tr>\n",
       "      <th>4</th>\n",
       "      <td>weekly technology discussions from Oxide and Friends</td>\n",
       "      <td>Technology</td>\n",
       "      <td>id1625932222</td>\n",
       "    </tr>\n",
       "    <tr>\n",
       "      <th>5</th>\n",
       "      <td>top tech news with Leo Laporte show</td>\n",
       "      <td>Technology</td>\n",
       "      <td>id478840375</td>\n",
       "    </tr>\n",
       "    <tr>\n",
       "      <th>6</th>\n",
       "      <td>Sunday tech roundtable TWiT insiders</td>\n",
       "      <td>Technology</td>\n",
       "      <td>id478840375</td>\n",
       "    </tr>\n",
       "    <tr>\n",
       "      <th>7</th>\n",
       "      <td>weekly hottest tech discussions and analysis</td>\n",
       "      <td>Technology</td>\n",
       "      <td>id478840375</td>\n",
       "    </tr>\n",
       "    <tr>\n",
       "      <th>8</th>\n",
       "      <td>AI robots PCs privacy weekly roundup</td>\n",
       "      <td>Technology</td>\n",
       "      <td>id478840375</td>\n",
       "    </tr>\n",
       "    <tr>\n",
       "      <th>9</th>\n",
       "      <td>live tech news Sundays 5:15pm Eastern</td>\n",
       "      <td>Technology</td>\n",
       "      <td>id478840375</td>\n",
       "    </tr>\n",
       "  </tbody>\n",
       "</table>\n",
       "</div>"
      ],
      "text/plain": [
       "                                                     query    category  \\\n",
       "0  weekly Discord show about computer history and startups  Technology   \n",
       "1   Oxide hardware bringup discussions every Monday 5pm PT  Technology   \n",
       "2  technology topics du jour Discord recordings every week  Technology   \n",
       "3  Oxide hosts diverse tech topics Discord weekly sessions  Technology   \n",
       "4     weekly technology discussions from Oxide and Friends  Technology   \n",
       "5                      top tech news with Leo Laporte show  Technology   \n",
       "6                     Sunday tech roundtable TWiT insiders  Technology   \n",
       "7             weekly hottest tech discussions and analysis  Technology   \n",
       "8                     AI robots PCs privacy weekly roundup  Technology   \n",
       "9                    live tech news Sundays 5:15pm Eastern  Technology   \n",
       "\n",
       "     podcast_id  \n",
       "0  id1625932222  \n",
       "1  id1625932222  \n",
       "2  id1625932222  \n",
       "3  id1625932222  \n",
       "4  id1625932222  \n",
       "5   id478840375  \n",
       "6   id478840375  \n",
       "7   id478840375  \n",
       "8   id478840375  \n",
       "9   id478840375  "
      ]
     },
     "execution_count": 19,
     "metadata": {},
     "output_type": "execute_result"
    }
   ],
   "source": [
    "df.head(10)"
   ]
  },
  {
   "cell_type": "code",
   "execution_count": 18,
   "id": "27d4fb17-c96e-47ba-b642-a41ef33a469d",
   "metadata": {},
   "outputs": [
    {
     "data": {
      "text/plain": [
       "array(['Technology'], dtype=object)"
      ]
     },
     "execution_count": 18,
     "metadata": {},
     "output_type": "execute_result"
    }
   ],
   "source": [
    "df['category'].unique()"
   ]
  },
  {
   "cell_type": "raw",
   "id": "ccab413b-3b15-4548-926c-b88764daf792",
   "metadata": {},
   "source": [
    "bugdet before 2.15$\n",
    "budged after 1.83$"
   ]
  },
  {
   "cell_type": "markdown",
   "id": "f8ef12b8-9435-4c54-8146-7a173e754f58",
   "metadata": {},
   "source": [
    "Generating 5 queries for 200 podcasts took 5 min and 0.32$ -> 3 cents for 100 ground-truth query"
   ]
  },
  {
   "cell_type": "code",
   "execution_count": null,
   "id": "ba4ae9d6-bee9-49c3-a8f8-eecd4f200a98",
   "metadata": {},
   "outputs": [],
   "source": []
  }
 ],
 "metadata": {
  "kernelspec": {
   "display_name": "Python 3 (ipykernel)",
   "language": "python",
   "name": "python3"
  },
  "language_info": {
   "codemirror_mode": {
    "name": "ipython",
    "version": 3
   },
   "file_extension": ".py",
   "mimetype": "text/x-python",
   "name": "python",
   "nbconvert_exporter": "python",
   "pygments_lexer": "ipython3",
   "version": "3.11.3"
  }
 },
 "nbformat": 4,
 "nbformat_minor": 5
}
