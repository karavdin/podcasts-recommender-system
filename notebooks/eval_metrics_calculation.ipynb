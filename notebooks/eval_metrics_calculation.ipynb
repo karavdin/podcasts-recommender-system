{
 "cells": [
  {
   "cell_type": "code",
   "execution_count": 1,
   "id": "0ffd83d5-c28c-41ea-9786-c55d7638e94c",
   "metadata": {},
   "outputs": [],
   "source": [
    "import pandas as pd\n",
    "from sentence_transformers import SentenceTransformer\n",
    "from tqdm.auto import tqdm\n",
    "from elasticsearch import Elasticsearch"
   ]
  },
  {
   "cell_type": "code",
   "execution_count": 2,
   "id": "e0951408-d1a6-414a-a24a-2d9c40a5af74",
   "metadata": {},
   "outputs": [],
   "source": [
    "import warnings\n",
    "warnings.filterwarnings(\"ignore\", category=DeprecationWarning) \n",
    "warnings.filterwarnings(\"ignore\", category=UserWarning, module=\"torch\")\n",
    "#warnings.filterwarnings(\"ignore\", message=\"You try to use a model that was created with version 3.0.0.dev0, however, your version is 2.7.0. This might cause unexpected behavior or errors. In that case, try to update to the latest version.\")"
   ]
  },
  {
   "cell_type": "markdown",
   "id": "663915d3-7e4b-4e71-8348-fae2d7cb8148",
   "metadata": {},
   "source": [
    "# Read dataset"
   ]
  },
  {
   "cell_type": "code",
   "execution_count": 3,
   "id": "caefd713-3726-4d5c-89dc-39d083e3bb42",
   "metadata": {},
   "outputs": [
    {
     "data": {
      "text/plain": [
       "{'query': 'Elin Hilderbrand podcast',\n",
       " 'category': 'Arts',\n",
       " 'podcast_id': 'id1688425643'}"
      ]
     },
     "execution_count": 3,
     "metadata": {},
     "output_type": "execute_result"
    }
   ],
   "source": [
    "#df_ground_truth = pd.read_csv('../data/processed/eval_ground-truth-data_small.csv')\n",
    "df_ground_truth = pd.read_csv('../data/processed/eval_ground-truth-data_1500.csv') #1500*5 queries\n",
    "ground_truth = df_ground_truth.to_dict(orient='records')\n",
    "ground_truth[0]"
   ]
  },
  {
   "cell_type": "markdown",
   "id": "72bfc0d6-5fc1-444f-8d1d-ea06e8f6b01e",
   "metadata": {},
   "source": [
    "# Key-based Search"
   ]
  },
  {
   "cell_type": "code",
   "execution_count": 4,
   "id": "32e7bd07-8367-4234-81a4-bf34ad8bbbdb",
   "metadata": {},
   "outputs": [],
   "source": [
    "es_client = Elasticsearch('http://localhost:9200')"
   ]
  },
  {
   "cell_type": "code",
   "execution_count": 5,
   "id": "55bb21f9-4ed9-4d78-907f-cef05ca8c5d7",
   "metadata": {},
   "outputs": [],
   "source": [
    "def elastic_search(query):\n",
    "    index_name='podcasts_multi-qa-minilm-l6-cos-v1__dims_384' \n",
    "    \n",
    "    search_query = {\n",
    "        \"size\": 5,\n",
    "        \"query\": {\n",
    "            \"bool\": {\n",
    "                \"must\": {\n",
    "                    \"multi_match\": {\n",
    "                        \"query\": query,\n",
    "                        \"fields\": [\"description^3\", \"name\"],\n",
    "                        \"type\": \"best_fields\"\n",
    "                    }\n",
    "                }\n",
    "            }\n",
    "        }\n",
    "    }\n",
    "\n",
    "    response = es_client.search(index=index_name, body=search_query)\n",
    "    \n",
    "    result_docs = []\n",
    "    \n",
    "    for hit in response['hits']['hits']:\n",
    "        result_docs.append(hit['_source'])\n",
    "    \n",
    "    return result_docs"
   ]
  },
  {
   "cell_type": "markdown",
   "id": "0d77b34d-5b77-48ee-9229-48cff298a5ee",
   "metadata": {},
   "source": [
    "# Semantic Search"
   ]
  },
  {
   "cell_type": "code",
   "execution_count": 6,
   "id": "5964f59a-7477-420c-8c6f-c169bbf8244c",
   "metadata": {},
   "outputs": [],
   "source": [
    "def elastic_search_knn(field, vector,index_name):\n",
    "    knn = {\n",
    "        \"field\": field,\n",
    "        \"query_vector\": vector,\n",
    "        \"k\": 5,\n",
    "        \"num_candidates\": 10000,\n",
    "    }\n",
    "\n",
    "    search_query = {\n",
    "        \"knn\": knn,\n",
    "        \"_source\": [\"description\",\"name\",\"category\",\"id\"]\n",
    "    }\n",
    "\n",
    "    es_results = es_client.search(\n",
    "        index=index_name,\n",
    "        body=search_query\n",
    "    )\n",
    "    \n",
    "    result_docs = []\n",
    "    \n",
    "    for hit in es_results['hits']['hits']:\n",
    "        result_docs.append(hit['_source'])\n",
    "\n",
    "    return result_docs\n",
    "\n",
    "def description_vector_knn(query,model_embed,index_name):\n",
    "    v_q = model_embed.encode(query)\n",
    "    return elastic_search_knn('description_vector', v_q, index_name)\n",
    "\n",
    "def description_vector_knn_mpnet(query):\n",
    "    index_name ='podcasts_multi-qa-mpnet-base-dot-v1__dims_768' \n",
    "    model_name = 'multi-qa-mpnet-base-dot-v1'\n",
    "    model_embed = SentenceTransformer(model_name)\n",
    "    return description_vector_knn(query,model_embed=model_embed,index_name=index_name)\n",
    "    \n",
    "def description_vector_knn_miniLM(query):\n",
    "    index_name = 'podcasts_multi-qa-minilm-l6-cos-v1__dims_384'  \n",
    "    model_name = 'multi-qa-MiniLM-L6-cos-v1'\n",
    "    model_embed = SentenceTransformer(model_name)\n",
    "    return description_vector_knn(query,model_embed=model_embed,index_name=index_name)"
   ]
  },
  {
   "cell_type": "markdown",
   "id": "7814cadd-57bb-4755-80bd-bef57c34907c",
   "metadata": {},
   "source": [
    "# Metrics\n",
    "More Metrics here: [link](https://github.com/DataTalksClub/llm-zoomcamp/blob/main/03-vector-search/eval/evaluation-metrics.md)"
   ]
  },
  {
   "cell_type": "markdown",
   "id": "cbfa7f1f-7b33-49ef-b2ce-03ec51a7f069",
   "metadata": {},
   "source": [
    "## Hit rate (or Recall at k)\n",
    "\n",
    "Measures the proportion of queries for which at least one relevant document is retrieved in the top k results.\n",
    "\n",
    "Formula: HR@k = (Number of queries with at least one relevant document in top k) / |Q|"
   ]
  },
  {
   "cell_type": "code",
   "execution_count": 7,
   "id": "3e2c63a4-7bc8-406a-9a5f-c877b3a407b4",
   "metadata": {},
   "outputs": [],
   "source": [
    "def hit_rate(relevance_total):\n",
    "    cnt = 0\n",
    "\n",
    "    for line in relevance_total:\n",
    "        if True in line:\n",
    "            cnt = cnt + 1\n",
    "\n",
    "    return cnt / len(relevance_total)"
   ]
  },
  {
   "cell_type": "markdown",
   "id": "c359be2a-3cf9-40ff-af6d-740e154e6225",
   "metadata": {},
   "source": [
    "## Mean Reciprocal Rank (MRR)\n",
    "\n",
    "Evaluates the rank position of the first relevant document\n",
    "\n",
    "Formula: MRR = (1 / |Q|) * Σ (1 / rank_i) for i = 1 to |Q|"
   ]
  },
  {
   "cell_type": "code",
   "execution_count": 8,
   "id": "a05d9485-4787-47c2-898c-5a7135924f78",
   "metadata": {},
   "outputs": [],
   "source": [
    "def mrr(relevance_total):\n",
    "    total_score = 0.0\n",
    "\n",
    "    for line in relevance_total:\n",
    "        for rank in range(len(line)):\n",
    "            if line[rank] == True:\n",
    "                total_score = total_score + 1 / (rank + 1)\n",
    "\n",
    "    return total_score / len(relevance_total)"
   ]
  },
  {
   "cell_type": "code",
   "execution_count": 9,
   "id": "1e2e8cab-326c-4721-bc9d-4ef5fa327842",
   "metadata": {},
   "outputs": [
    {
     "data": {
      "text/plain": [
       "{'query': 'Elin Hilderbrand podcast',\n",
       " 'category': 'Arts',\n",
       " 'podcast_id': 'id1688425643'}"
      ]
     },
     "execution_count": 9,
     "metadata": {},
     "output_type": "execute_result"
    }
   ],
   "source": [
    "ground_truth[0]"
   ]
  },
  {
   "cell_type": "code",
   "execution_count": 10,
   "id": "01a1e919-81a1-41f5-8e05-a4dc1dd92c37",
   "metadata": {},
   "outputs": [],
   "source": [
    "def evaluate(ground_truth, search_function):\n",
    "    relevance_total = []\n",
    "\n",
    "    for q in tqdm(ground_truth):\n",
    "    #for q in tqdm(ground_truth[0:10]):\n",
    "        doc_id = q['podcast_id']\n",
    "        results = search_function(q['query'])\n",
    "        relevance = [d['id'] == doc_id for d in results]\n",
    "        relevance_total.append(relevance)\n",
    "\n",
    "    return {\n",
    "        'hit_rate': hit_rate(relevance_total),\n",
    "        'mrr': mrr(relevance_total),\n",
    "    }"
   ]
  },
  {
   "cell_type": "markdown",
   "id": "430c10cd-950a-4905-a3e7-6b1f7c511485",
   "metadata": {},
   "source": [
    "# Let's run evaluation for all models"
   ]
  },
  {
   "cell_type": "code",
   "execution_count": 11,
   "id": "60115d98-ec2b-497e-868c-c68dcc8a10a7",
   "metadata": {},
   "outputs": [
    {
     "data": {
      "application/vnd.jupyter.widget-view+json": {
       "model_id": "4b09700528bb42c5b5a8afb0ab21a842",
       "version_major": 2,
       "version_minor": 0
      },
      "text/plain": [
       "  0%|          | 0/7686 [00:00<?, ?it/s]"
      ]
     },
     "metadata": {},
     "output_type": "display_data"
    },
    {
     "data": {
      "text/plain": [
       "{'hit_rate': 0.8252667187093417, 'mrr': 0.7458235753317687}"
      ]
     },
     "execution_count": 11,
     "metadata": {},
     "output_type": "execute_result"
    }
   ],
   "source": [
    "evaluate(ground_truth, elastic_search)"
   ]
  },
  {
   "cell_type": "code",
   "execution_count": null,
   "id": "476aec1c-3c4a-4fac-be35-ce753b9b2f33",
   "metadata": {},
   "outputs": [
    {
     "data": {
      "application/vnd.jupyter.widget-view+json": {
       "model_id": "a9362acb3bc3422e95715a2db2e50388",
       "version_major": 2,
       "version_minor": 0
      },
      "text/plain": [
       "  0%|          | 0/7686 [00:00<?, ?it/s]"
      ]
     },
     "metadata": {},
     "output_type": "display_data"
    }
   ],
   "source": [
    "evaluate(ground_truth, description_vector_knn_miniLM)"
   ]
  },
  {
   "cell_type": "code",
   "execution_count": null,
   "id": "36c16235-d44a-4d14-9c87-eb94c825f5c2",
   "metadata": {},
   "outputs": [],
   "source": [
    "evaluate(ground_truth, description_vector_knn_mpnet)"
   ]
  },
  {
   "cell_type": "code",
   "execution_count": null,
   "id": "4da6cadc-51ec-4850-8322-aa10bef03266",
   "metadata": {},
   "outputs": [],
   "source": []
  }
 ],
 "metadata": {
  "kernelspec": {
   "display_name": "Python 3 (ipykernel)",
   "language": "python",
   "name": "python3"
  },
  "language_info": {
   "codemirror_mode": {
    "name": "ipython",
    "version": 3
   },
   "file_extension": ".py",
   "mimetype": "text/x-python",
   "name": "python",
   "nbconvert_exporter": "python",
   "pygments_lexer": "ipython3",
   "version": "3.10.13"
  }
 },
 "nbformat": 4,
 "nbformat_minor": 5
}
