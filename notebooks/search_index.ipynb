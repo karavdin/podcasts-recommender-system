{
 "cells": [
  {
   "cell_type": "code",
   "execution_count": 2,
   "id": "1902b9f8-43a8-4ac4-a74a-5707c3e9df5d",
   "metadata": {},
   "outputs": [],
   "source": [
    "from tqdm.auto import tqdm\n",
    "import json\n",
    "from sentence_transformers import SentenceTransformer\n",
    "#import pandas as pd"
   ]
  },
  {
   "cell_type": "markdown",
   "id": "4450cf02-8615-48fb-8293-2ec0319d4cf6",
   "metadata": {},
   "source": [
    "# Read input data from json file"
   ]
  },
  {
   "cell_type": "code",
   "execution_count": 3,
   "id": "a50c75ce-9d3d-4297-8c75-865e22b74df8",
   "metadata": {},
   "outputs": [],
   "source": [
    "file_name = 'podcasts_25k.json' #all data, 14700 podcasts after clearning\n",
    "#file_name = 'podcasts.json' #sample data, 120 podcasts\n",
    "with open(f'../data/processed/{file_name}', 'rt') as f_in:\n",
    "   podcasts = json.load(f_in)"
   ]
  },
  {
   "cell_type": "code",
   "execution_count": 4,
   "id": "1c23efbe-b680-4fad-b307-361847cdd26f",
   "metadata": {},
   "outputs": [
    {
     "data": {
      "text/plain": [
       "{'id': 'id1550677342',\n",
       " 'name': 'Create Your Own Light',\n",
       " 'url': 'https://podcasts.apple.com/us/podcast/create-your-own-light/id1550677342',\n",
       " 'studio': 'Podcast with Travis Howze',\n",
       " 'category': 'Arts',\n",
       " 'episode_count': 129,\n",
       " 'avg_rating': 4.8,\n",
       " 'total_ratings': 161,\n",
       " 'description': 'We all want to live a life we desire and deserve versus merely existing. Each week, join Travis Howze, U.S. Marine, former Police Officer and Firefighter, World Touring Stand Up Comedian, Motivational Speaker and Best Selling Author as he draws from a lifetime of experiences from unbelievably hysterical stories to unspeakable traumatic events and engages directly with his supporters and listeners, taking off-the-cuff questions and topic suggestions to produce a unique broadcast atmosphere, where you, the listener, has a say in the show. If you struggle with purpose, looking for inspiration, have a friend or loved one who could use support, or simply want to laugh and cry in your vehicle, couch, or go-to place, this podcast is a must for you!'}"
      ]
     },
     "execution_count": 4,
     "metadata": {},
     "output_type": "execute_result"
    }
   ],
   "source": [
    "podcasts[13]"
   ]
  },
  {
   "cell_type": "markdown",
   "id": "9068d908-85ad-49d4-b2b1-0714de82a1ef",
   "metadata": {},
   "source": [
    "# Create embeddings using Sentence Transformer"
   ]
  },
  {
   "cell_type": "markdown",
   "id": "00b4ed67-4884-480e-b531-600a1587007d",
   "metadata": {},
   "source": [
    "See all models leaderboard: https://sbert.net/docs/sentence_transformer/pretrained_models.html"
   ]
  },
  {
   "cell_type": "code",
   "execution_count": 7,
   "id": "7d61ca88-5d04-4574-b721-3d1b90d9c457",
   "metadata": {},
   "outputs": [
    {
     "data": {
      "text/plain": [
       "384"
      ]
     },
     "execution_count": 7,
     "metadata": {},
     "output_type": "execute_result"
    }
   ],
   "source": [
    "model_name = 'multi-qa-MiniLM-L6-cos-v1' #best semantic search score, \"dims\": 384\n",
    "#model_name = 'multi-qa-mpnet-base-dot-v1' #\"dims\": 768\n",
    "#model_name = 'multi-qa-distilbert-cos-v1' #dims 512, medium size, medium speed\n",
    "model = SentenceTransformer(model_name)\n",
    "dims = len(model.encode(\"This is a simple sentence\"))\n",
    "len(model.encode(\"This is a simple sentence\"))"
   ]
  },
  {
   "cell_type": "code",
   "execution_count": 5,
   "id": "3ac8e741-080b-41f0-91f2-6b50de3ef26c",
   "metadata": {},
   "outputs": [
    {
     "data": {
      "text/plain": [
       "{'id': 'id1585917387',\n",
       " 'name': '特有想象\\u202a力\\u202c',\n",
       " 'url': 'https://podcasts.apple.com/us/podcast/%E7%89%B9%E6%9C%89%E6%83%B3%E8%B1%A1%E5%8A%9B/id1585917387',\n",
       " 'studio': '特有想象力',\n",
       " 'category': 'Arts',\n",
       " 'episode_count': 42,\n",
       " 'avg_rating': 5.0,\n",
       " 'total_ratings': 2,\n",
       " 'description': '「特有想象力」Podcast，一档关于设计、创意、科技的闲聊播客。有趣，有干货，有能量。让创意回归人，让设计面向未来。官网：https://tyxxl.tech/微信公众号：特有想象力来各大音频平台找到我们'}"
      ]
     },
     "execution_count": 5,
     "metadata": {},
     "output_type": "execute_result"
    }
   ],
   "source": [
    "podcasts[391]"
   ]
  },
  {
   "cell_type": "code",
   "execution_count": 6,
   "id": "0dfaef13-4a1a-47f0-9766-ce784c28d3cc",
   "metadata": {},
   "outputs": [],
   "source": [
    "#podcasts#[podcasts['name']=='No Title']"
   ]
  },
  {
   "cell_type": "code",
   "execution_count": 7,
   "id": "0dbd40a8-6f22-4eca-bae1-188618e8f888",
   "metadata": {},
   "outputs": [
    {
     "data": {
      "application/vnd.jupyter.widget-view+json": {
       "model_id": "a8789bc234cd47fe9a7ed6f561e79387",
       "version_major": 2,
       "version_minor": 0
      },
      "text/plain": [
       "  0%|          | 0/14700 [00:00<?, ?it/s]"
      ]
     },
     "metadata": {},
     "output_type": "display_data"
    }
   ],
   "source": [
    "#created the dense vector using the pre-trained model\n",
    "operations = []\n",
    "for doc in tqdm(podcasts):\n",
    "    #print(doc[\"name\"])\n",
    "    # Transforming the title into an embedding using the model\n",
    "    doc[\"description_vector\"] = model.encode(doc[\"description\"]).tolist()\n",
    "    doc[\"name_vector\"] = model.encode(doc[\"name\"]).tolist()\n",
    "    operations.append(doc)"
   ]
  },
  {
   "cell_type": "code",
   "execution_count": 8,
   "id": "c31084f2-2b56-41a3-8f9a-7a8d0205a55d",
   "metadata": {},
   "outputs": [
    {
     "data": {
      "text/plain": [
       "dict_keys(['id', 'name', 'url', 'studio', 'category', 'episode_count', 'avg_rating', 'total_ratings', 'description', 'description_vector', 'name_vector'])"
      ]
     },
     "execution_count": 8,
     "metadata": {},
     "output_type": "execute_result"
    }
   ],
   "source": [
    "podcasts[13].keys()"
   ]
  },
  {
   "cell_type": "markdown",
   "id": "e765594c-2eb0-4751-b17a-6bdabb2b7887",
   "metadata": {},
   "source": [
    "# Setup ElasticSearch connection"
   ]
  },
  {
   "cell_type": "code",
   "execution_count": 9,
   "id": "a92d5f30-3d6f-4ec6-b157-984b13997086",
   "metadata": {},
   "outputs": [
    {
     "data": {
      "text/plain": [
       "ObjectApiResponse({'name': '35e32a5c7ca8', 'cluster_name': 'docker-cluster', 'cluster_uuid': 'PzHbLMFOSPq6qhCXe2DRSA', 'version': {'number': '8.4.3', 'build_flavor': 'default', 'build_type': 'docker', 'build_hash': '42f05b9372a9a4a470db3b52817899b99a76ee73', 'build_date': '2022-10-04T07:17:24.662462378Z', 'build_snapshot': False, 'lucene_version': '9.3.0', 'minimum_wire_compatibility_version': '7.17.0', 'minimum_index_compatibility_version': '7.0.0'}, 'tagline': 'You Know, for Search'})"
      ]
     },
     "execution_count": 9,
     "metadata": {},
     "output_type": "execute_result"
    }
   ],
   "source": [
    "from elasticsearch import Elasticsearch\n",
    "es_client = Elasticsearch('http://localhost:9200') \n",
    "\n",
    "es_client.info()"
   ]
  },
  {
   "cell_type": "markdown",
   "id": "b78dd767-5429-45d8-ad99-39958ce1d6fb",
   "metadata": {},
   "source": [
    "# Create Mappings and Index"
   ]
  },
  {
   "cell_type": "code",
   "execution_count": 10,
   "id": "97a7fd3c-cf83-492d-83f9-d6345d3483c6",
   "metadata": {},
   "outputs": [],
   "source": [
    "index_settings = {\n",
    "    \"settings\": {\n",
    "        \"number_of_shards\": 1,\n",
    "        \"number_of_replicas\": 0\n",
    "    },\n",
    "    \"mappings\": {\n",
    "        \"properties\": {\n",
    "            \"name\": {\"type\": \"keyword\"} ,\n",
    "            \"id\": {\"type\": \"text\"},\n",
    "            \"category\": {\"type\": \"text\"},\n",
    "            \"studio\": {\"type\": \"text\"},\n",
    "            \"episode_count\": {\"type\": \"integer\"},\n",
    "            \"avg_rating\": {\"type\": \"float\"},\n",
    "            \"total_ratings\": {\"type\": \"integer\"},\n",
    "            \"url\": {\"type\": \"text\"},\n",
    "            \"description\": {\"type\": \"text\"},\n",
    "            \"description_vector\": {\"type\": \"dense_vector\", \"dims\": dims, \"index\": True, \"similarity\": \"cosine\"},\n",
    "            \"name_vector\": {\"type\": \"dense_vector\", \"dims\": dims, \"index\": True, \"similarity\": \"cosine\"},\n",
    "        }\n",
    "    }\n",
    "}"
   ]
  },
  {
   "cell_type": "code",
   "execution_count": 11,
   "id": "949ec21f-558e-49fc-b664-6b82260dd450",
   "metadata": {},
   "outputs": [
    {
     "name": "stdout",
     "output_type": "stream",
     "text": [
      "Index name: podcasts_multi-qa-distilbert-cos-v1__dims_768\n"
     ]
    },
    {
     "data": {
      "text/plain": [
       "ObjectApiResponse({'acknowledged': True, 'shards_acknowledged': True, 'index': 'podcasts_multi-qa-distilbert-cos-v1__dims_768'})"
      ]
     },
     "execution_count": 11,
     "metadata": {},
     "output_type": "execute_result"
    }
   ],
   "source": [
    "index_name = \"podcasts_\"+model_name+\"__dims_\"+str(dims)\n",
    "index_name = index_name.lower()\n",
    "print(\"Index name:\",index_name)\n",
    "es_client.indices.delete(index=index_name, ignore_unavailable=True)\n",
    "es_client.indices.create(index=index_name, body=index_settings)"
   ]
  },
  {
   "cell_type": "markdown",
   "id": "2229bcc1-3c94-4042-b7a0-7d4f87adc4ef",
   "metadata": {},
   "source": [
    "# Add documents into index"
   ]
  },
  {
   "cell_type": "code",
   "execution_count": 12,
   "id": "4afc9eb1-e7a6-44c1-aaef-9954841a4cf8",
   "metadata": {},
   "outputs": [
    {
     "data": {
      "application/vnd.jupyter.widget-view+json": {
       "model_id": "2d4ef660073f4126a1ab811d03c45dae",
       "version_major": 2,
       "version_minor": 0
      },
      "text/plain": [
       "  0%|          | 0/14700 [00:00<?, ?it/s]"
      ]
     },
     "metadata": {},
     "output_type": "display_data"
    },
    {
     "name": "stdout",
     "output_type": "stream",
     "text": [
      "Connection timed out\n"
     ]
    }
   ],
   "source": [
    "for doc in tqdm(podcasts):\n",
    "    try:\n",
    "        es_client.index(index=index_name, document=doc)\n",
    "    except Exception as e:\n",
    "        print(e)"
   ]
  },
  {
   "cell_type": "markdown",
   "id": "634322ed-bc93-49b8-aecb-db4184fded94",
   "metadata": {},
   "source": [
    "# Keybased elastic search"
   ]
  },
  {
   "cell_type": "code",
   "execution_count": 13,
   "id": "32f081e9-60d7-420a-9f8a-5e3beada41d4",
   "metadata": {},
   "outputs": [],
   "source": [
    "def elastic_search(query, category):\n",
    "    search_query = {\n",
    "        \"size\": 5,\n",
    "        \"query\": {\n",
    "            \"bool\": {\n",
    "                \"must\": {\n",
    "                    \"multi_match\": {\n",
    "                        \"query\": query,\n",
    "                        \"fields\": [\"description^3\", \"name\"],\n",
    "                        \"type\": \"best_fields\"\n",
    "                    }\n",
    "                },\n",
    "                # \"filter\": {\n",
    "                #     \"term\": {\n",
    "                #         \"category\": category\n",
    "                #     }\n",
    "                # }\n",
    "            }\n",
    "        }\n",
    "    }\n",
    "\n",
    "    response = es_client.search(index=index_name, body=search_query)\n",
    "    \n",
    "    result_docs = []\n",
    "    \n",
    "    for hit in response['hits']['hits']:\n",
    "        result_docs.append(hit['_source'])\n",
    "    \n",
    "    return result_docs"
   ]
  },
  {
   "cell_type": "code",
   "execution_count": 14,
   "id": "da00c348-e4f4-4b5a-965e-500db75b00b7",
   "metadata": {},
   "outputs": [],
   "source": [
    "def recommend_docs_to_text(result_docs):\n",
    "    for doc in result_docs:\n",
    "        print(doc['name'])\n",
    "       #print(doc['category'])\n",
    "        print(doc['description'])\n",
    "        print('\\n')"
   ]
  },
  {
   "cell_type": "code",
   "execution_count": 15,
   "id": "ef95e5e6-2c54-482c-8bbb-a8642412b0df",
   "metadata": {},
   "outputs": [
    {
     "name": "stdout",
     "output_type": "stream",
     "text": [
      "All About Agatha Christie\n",
      "All About Agatha is a podcast all about, well, Agatha. Agatha Christie, of course: the Queen of Crime, a real-life Dame of the British Empire, and author of sixty-six mystery novels that spanned the Twentieth Century, defining a genre. For five years, Catherine Brobeck and Kemper Donovan revisited these novels in publication order, ranking them according to pre-set criteria (plot, character, etc.). Tragically, Catherine Brobeck passed away at the end of 2021. Since then, Kemper has completed the podcast's ranking project, and now contents himself with celebrating the greatness of Christie by attempting to solve the ultimate mystery where she is concerned. Why Christie--and Christie alone--endures as powerfully as she does.\n",
      "\n",
      "\n",
      "Agatha Christie Radio Plays\n",
      "Agatha Christie is one of the most popular and prolific crime writers of all time, and her work has been adapted for radio and television countless times. These are just a few examples of the many radio adaptations of Agatha Christie's work. Her stories are perfectly suited for radio, with their complex plots, suspenseful twists and turns, and memorable characters. Christie's radio plays have been enjoyed by audiences for generations, and they continue to be popular today. They are a great way to experience her classic mysteries in a new and exciting way. Here are some of the reasons why Agatha Christie's radio plays are so popular:Her stories are well-crafted and suspenseful. Christie was a master storyteller, and her radio plays are full of twists and turns that keep the listener guessing until the very end.Her characters are complex and believable. Christie's characters are more than just archetypes; they are flawed and relatable individuals.Her radio plays are well-acted and produced. Many of the best radio actors of their time have appeared in Christie's radio plays, and the productions are always high-quality.If you are a fan of Agatha Christie, or if you simply enjoy a good mystery, I highly recommend checking out some of her radio plays. You won't be disappointed.\n",
      "\n",
      "\n",
      "Poirot Investigates - Agatha Christie\n",
      "\"Poirot Investigates\" is a collection of short stories by Agatha Christie, first published in 1924. It features the Belgian detective Hercule Poirot, a meticulous and clever sleuth known for his distinctive appearance and brilliant deductive skills. In this collection, Poirot, often accompanied by his friend Captain Hastings, tackles a series of intriguing cases. These stories showcase Christie's talent for constructing tightly plotted mysteries, with Poirot unraveling complex puzzles using his keen observation and logical reasoning. The mysteries vary in setting and complexity, but all are marked by Christie's trademark twists and surprise endings. This book is a testament to Christie's skill in crafting engaging and ingenious detective stories.\n",
      "\n",
      "\n",
      "Agatha Christie - The Mystery of the Blue Train\n",
      "\"The Mystery of the Blue Train\" is a detective novel written by the renowned British author Agatha Christie. It was first published in 1928 and features her famous fictional detective, Hercule Poirot. The story revolves around the murder of a wealthy American heiress named Ruth Kettering, who is found strangled aboard the luxurious Blue Train traveling from Calais to Nice in France.Hercule Poirot becomes involved in solving the case when he meets Ruth Kettering's father, Rufus Van Aldin, who suspects that her estranged husband, Derek Kettering, is behind the murder to gain access to her inheritance. As Poirot investigates, he encounters a web of complex relationships, multiple suspects, and hidden motives among the passengers on the train. The novel combines elements of romance, intrigue, and mystery as Poirot unravels the truth behind the murder in his signature meticulous and methodical style.\"The Mystery of the Blue Train\" is a classic example of Agatha Christie's detective fiction, known for its clever plot twists, intriguing characters, and the brilliant deductive skills of Hercule Poirot as he strives to solve the enigmatic crime.\n",
      "\n",
      "\n",
      "Selene\n",
      "Step into Selene, a city cloaked in darkness and teeming with horrors – from evil headmistresses to murderous marionettes, black worm parasites, haunted hotels, and eerie sleepwalkers. Meet the Paranormal Investigators of Needle Street, newly arrived to battle the encroaching malevolence. Inspired by Poe, Edward Gorey, and Agatha Christie, their adventures promise twisted mysteries and unforgettable characters. Immersive audio brings the city to life, blending dark humor with bone-chilling suspense. Join the investigators as they navigate Selene's shadows, where mystery and intrigue await at every turn. Now, experience the thrill of Selene in Dolby Atmos.Join us on Patreon for music, art and more. https://www.patreon.com/CleverthanA Clever > Than Production www.cleverthan.com Hosted on Acast. See acast.com/privacy for more information.\n",
      "\n",
      "\n"
     ]
    }
   ],
   "source": [
    "result_docs = elastic_search(\n",
    "    query=\"Podcast about Agatha Christie\",\n",
    "    category=\"Arts\"\n",
    ")\n",
    "recommend_docs_to_text(result_docs)"
   ]
  },
  {
   "cell_type": "markdown",
   "id": "1c7fc7b8-0d1b-4f9b-8595-cfdf84a046f0",
   "metadata": {},
   "source": [
    "# Perform Keyword search with Semantic Search (Hybrid/Advanced Search)"
   ]
  },
  {
   "cell_type": "code",
   "execution_count": 16,
   "id": "af7816ab-912c-43e2-9eda-ca9c1e857935",
   "metadata": {},
   "outputs": [],
   "source": [
    "def elastic_search_knn(field, vector):\n",
    "    knn = {\n",
    "        \"field\": field,\n",
    "        \"query_vector\": vector,\n",
    "        \"k\": 5,\n",
    "        \"num_candidates\": 10000,\n",
    "         # \"filter\": {\n",
    "                #     \"term\": {\n",
    "                #         \"category\": category\n",
    "                #     }\n",
    "                # }\n",
    "    }\n",
    "\n",
    "    search_query = {\n",
    "        \"knn\": knn,\n",
    "        \"_source\": [\"description\",\"name\"]\n",
    "    }\n",
    "\n",
    "    es_results = es_client.search(\n",
    "        index=index_name,\n",
    "        body=search_query\n",
    "    )\n",
    "    \n",
    "    result_docs = []\n",
    "    \n",
    "    for hit in es_results['hits']['hits']:\n",
    "        result_docs.append(hit['_source'])\n",
    "\n",
    "    return result_docs"
   ]
  },
  {
   "cell_type": "code",
   "execution_count": 17,
   "id": "2bfc96fa-cc5a-4d05-aa49-1f2e4967f119",
   "metadata": {},
   "outputs": [],
   "source": [
    "def description_vector_knn(query):\n",
    "    v_q = model.encode(query)\n",
    "    return elastic_search_knn('description_vector', v_q)"
   ]
  },
  {
   "cell_type": "code",
   "execution_count": 18,
   "id": "02276f12-7f7f-4cfa-bfb7-e12cabf2990c",
   "metadata": {},
   "outputs": [],
   "source": [
    "def name_vector_knn(query):\n",
    "    v_q = model.encode(query)\n",
    "    return elastic_search_knn('name_vector', v_q)"
   ]
  },
  {
   "cell_type": "code",
   "execution_count": 19,
   "id": "e7e41629-9b16-4396-9d5d-e8cdaf2975c3",
   "metadata": {},
   "outputs": [
    {
     "name": "stdout",
     "output_type": "stream",
     "text": [
      "All About Agatha Christie\n",
      "All About Agatha is a podcast all about, well, Agatha. Agatha Christie, of course: the Queen of Crime, a real-life Dame of the British Empire, and author of sixty-six mystery novels that spanned the Twentieth Century, defining a genre. For five years, Catherine Brobeck and Kemper Donovan revisited these novels in publication order, ranking them according to pre-set criteria (plot, character, etc.). Tragically, Catherine Brobeck passed away at the end of 2021. Since then, Kemper has completed the podcast's ranking project, and now contents himself with celebrating the greatness of Christie by attempting to solve the ultimate mystery where she is concerned. Why Christie--and Christie alone--endures as powerfully as she does.\n",
      "\n",
      "\n",
      "That Witch Life\n",
      "A Podcast on Living as a Witch in Today’s World\n",
      "\n",
      "\n",
      "Haunted Detective\n",
      "A true crime podcast that investigates the Macabre side of the world. Kelsey Childs and her friend Pamela J explore Paranormal mysteries nestled within the strangest crime cases you will ever hear about. From human doll makers and odd hauntings to people who vanished without a trace, the Haunted Detective podcast is a series that will make you question everything.\n",
      "\n",
      "\n",
      "Limelight\n",
      "The Limelight podcast - for fiction and drama serials you won't want to miss from Radio 4.\n",
      "\n",
      "\n",
      "Blueberries Hill\n",
      "An extremely well-behaved Beatrix Potter-ish storybook podcast series ostensibly for children.\n",
      "\n",
      "\n"
     ]
    }
   ],
   "source": [
    "search_term = \"Podcast about Agatha Christie\"\n",
    "result_docs = description_vector_knn(search_term)\n",
    "recommend_docs_to_text(result_docs)"
   ]
  },
  {
   "cell_type": "code",
   "execution_count": 20,
   "id": "ee37c48c-b744-4eb2-b6ed-861201d71555",
   "metadata": {},
   "outputs": [],
   "source": [
    "search_term = \"Podcast about Agatha Christie\"\n",
    "result_docs = name_vector_knn(search_term)"
   ]
  },
  {
   "cell_type": "code",
   "execution_count": 21,
   "id": "51dd7d71-59e6-4041-9a43-cbfb54116477",
   "metadata": {},
   "outputs": [
    {
     "name": "stdout",
     "output_type": "stream",
     "text": [
      "The Salem Witch Trials Podcast\n",
      "The Salem Witch Trials Podcast takes a fast-paced and episodic examination of the witch hysteria in Salem, Massachusetts in 1692. Each brief yet insightful episode harnesses the knowledge of an expert to help illuminate both the chronology of events as well the deeper context surrounding the hysteria, giving listeners an understanding of this fascinating and tragic event in early American history.\n",
      "\n",
      "\n",
      "Agatha Christie Radio Plays\n",
      "Agatha Christie is one of the most popular and prolific crime writers of all time, and her work has been adapted for radio and television countless times. These are just a few examples of the many radio adaptations of Agatha Christie's work. Her stories are perfectly suited for radio, with their complex plots, suspenseful twists and turns, and memorable characters. Christie's radio plays have been enjoyed by audiences for generations, and they continue to be popular today. They are a great way to experience her classic mysteries in a new and exciting way. Here are some of the reasons why Agatha Christie's radio plays are so popular:Her stories are well-crafted and suspenseful. Christie was a master storyteller, and her radio plays are full of twists and turns that keep the listener guessing until the very end.Her characters are complex and believable. Christie's characters are more than just archetypes; they are flawed and relatable individuals.Her radio plays are well-acted and produced. Many of the best radio actors of their time have appeared in Christie's radio plays, and the productions are always high-quality.If you are a fan of Agatha Christie, or if you simply enjoy a good mystery, I highly recommend checking out some of her radio plays. You won't be disappointed.\n",
      "\n",
      "\n",
      "All About Agatha Christie\n",
      "All About Agatha is a podcast all about, well, Agatha. Agatha Christie, of course: the Queen of Crime, a real-life Dame of the British Empire, and author of sixty-six mystery novels that spanned the Twentieth Century, defining a genre. For five years, Catherine Brobeck and Kemper Donovan revisited these novels in publication order, ranking them according to pre-set criteria (plot, character, etc.). Tragically, Catherine Brobeck passed away at the end of 2021. Since then, Kemper has completed the podcast's ranking project, and now contents himself with celebrating the greatness of Christie by attempting to solve the ultimate mystery where she is concerned. Why Christie--and Christie alone--endures as powerfully as she does.\n",
      "\n",
      "\n",
      "Salem The Podcast\n",
      "Welcome to Salem, Massachusetts! Join tour guides Jeffrey Lilley and Sarah Black as they talk all things Witch City. Learn its history, meet its people, and discover the magic.\n",
      "\n",
      "\n",
      "Mini Medical Mysteries Podcast\n",
      "The Mini Medical Mysteries Podcast is like if The Magic School Bus met Sherlock Holmes. Mini Medical sleuths are taken on a fantastical journey where all along the way, they collect the clues to solve a perplexing medical puzzle. Do YOU have what it takes?\n",
      "\n",
      "\n"
     ]
    }
   ],
   "source": [
    "recommend_docs_to_text(result_docs)"
   ]
  },
  {
   "cell_type": "code",
   "execution_count": null,
   "id": "d17545c7-1106-48ee-9919-f5a50b1ef8f4",
   "metadata": {},
   "outputs": [],
   "source": []
  }
 ],
 "metadata": {
  "kernelspec": {
   "display_name": "Python 3 (ipykernel)",
   "language": "python",
   "name": "python3"
  },
  "language_info": {
   "codemirror_mode": {
    "name": "ipython",
    "version": 3
   },
   "file_extension": ".py",
   "mimetype": "text/x-python",
   "name": "python",
   "nbconvert_exporter": "python",
   "pygments_lexer": "ipython3",
   "version": "3.11.3"
  }
 },
 "nbformat": 4,
 "nbformat_minor": 5
}
