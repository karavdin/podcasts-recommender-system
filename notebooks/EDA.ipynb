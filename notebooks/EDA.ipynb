{
 "cells": [
  {
   "cell_type": "code",
   "execution_count": 1,
   "id": "4f82291c",
   "metadata": {},
   "outputs": [],
   "source": [
    "# Importing data paths\n",
    "import sys\n",
    "sys.path.insert(1, '/Users/anastasiakaravdina/code/podcasts-recommender-system')\n",
    "from config import PODCASTS_DATABASE_PATH_RAW, USER_REVIEWS_DATABASE_PATH_RAW, PODCASTS_DATABASE_PATH_PROCESSED, USER_REVIEWS_DATABASE_PATH_PROCESSED\n",
    "import pandas as pd\n",
    "from sklearn.feature_extraction.text import CountVectorizer\n",
    "from sklearn.metrics.pairwise import cosine_similarity, manhattan_distances, euclidean_distances\n",
    "from sklearn.feature_extraction.text import TfidfVectorizer\n",
    "from sklearn.model_selection import train_test_split\n",
    "import re\n",
    "#from gensim import models\n",
    "import numpy as np\n",
    "import matplotlib.pyplot as plt\n",
    "import matplotlib.style\n",
    "import seaborn as sns\n",
    "import plotly.express as px\n",
    "import plotly.figure_factory as ff\n",
    "%matplotlib inline\n",
    "#from gensim.models import FastText as ft\n",
    "from IPython.display import Image"
   ]
  },
  {
   "cell_type": "code",
   "execution_count": 2,
   "id": "1a116fae",
   "metadata": {},
   "outputs": [
    {
     "name": "stderr",
     "output_type": "stream",
     "text": [
      "[nltk_data] Downloading package punkt to\n",
      "[nltk_data]     /Users/anastasiakaravdina/nltk_data...\n",
      "[nltk_data]   Package punkt is already up-to-date!\n",
      "[nltk_data] Downloading package stopwords to\n",
      "[nltk_data]     /Users/anastasiakaravdina/nltk_data...\n",
      "[nltk_data]   Package stopwords is already up-to-date!\n",
      "[nltk_data] Downloading package wordnet to\n",
      "[nltk_data]     /Users/anastasiakaravdina/nltk_data...\n",
      "[nltk_data]   Package wordnet is already up-to-date!\n",
      "[nltk_data] Downloading package omw-1.4 to\n",
      "[nltk_data]     /Users/anastasiakaravdina/nltk_data...\n",
      "[nltk_data]   Package omw-1.4 is already up-to-date!\n"
     ]
    },
    {
     "data": {
      "text/plain": [
       "True"
      ]
     },
     "execution_count": 2,
     "metadata": {},
     "output_type": "execute_result"
    }
   ],
   "source": [
    "import nltk\n",
    "import ssl\n",
    "\n",
    "try:\n",
    "    _create_unverified_https_context = ssl._create_unverified_context\n",
    "except AttributeError:\n",
    "    pass\n",
    "else:\n",
    "    ssl._create_default_https_context = _create_unverified_https_context\n",
    "\n",
    "nltk.download('punkt')\n",
    "nltk.download('stopwords')\n",
    "nltk.download('wordnet')\n",
    "nltk.download('omw-1.4')"
   ]
  },
  {
   "cell_type": "code",
   "execution_count": 3,
   "id": "c97138df",
   "metadata": {},
   "outputs": [
    {
     "data": {
      "text/plain": [
       "('/data/raw/podcasts.csv', '/data/raw/user_reviews.csv')"
      ]
     },
     "execution_count": 3,
     "metadata": {},
     "output_type": "execute_result"
    }
   ],
   "source": [
    "PODCASTS_DATABASE_PATH_RAW, USER_REVIEWS_DATABASE_PATH_RAW"
   ]
  },
  {
   "cell_type": "code",
   "execution_count": 4,
   "id": "bc72c41d-bf34-4d36-bfd3-88d598cd0478",
   "metadata": {},
   "outputs": [
    {
     "name": "stdout",
     "output_type": "stream",
     "text": [
      "EDA.ipynb                           evaluation_miniLM_embeddings.ipynb\n",
      "categorypair_sim_matrices.npy       recommendation model building.ipynb\n"
     ]
    }
   ],
   "source": [
    "!ls"
   ]
  },
  {
   "cell_type": "code",
   "execution_count": 5,
   "id": "e8c158c5",
   "metadata": {},
   "outputs": [
    {
     "ename": "FileNotFoundError",
     "evalue": "[Errno 2] No such file or directory: '/data/raw/podcasts.csv'",
     "output_type": "error",
     "traceback": [
      "\u001b[0;31m---------------------------------------------------------------------------\u001b[0m",
      "\u001b[0;31mFileNotFoundError\u001b[0m                         Traceback (most recent call last)",
      "Cell \u001b[0;32mIn[5], line 2\u001b[0m\n\u001b[1;32m      1\u001b[0m \u001b[38;5;66;03m# Loading data \u001b[39;00m\n\u001b[0;32m----> 2\u001b[0m df_podcasts \u001b[38;5;241m=\u001b[39m \u001b[43mpd\u001b[49m\u001b[38;5;241;43m.\u001b[39;49m\u001b[43mread_csv\u001b[49m\u001b[43m(\u001b[49m\u001b[43mPODCASTS_DATABASE_PATH_RAW\u001b[49m\u001b[43m,\u001b[49m\u001b[43mheader\u001b[49m\u001b[38;5;241;43m=\u001b[39;49m\u001b[38;5;28;43;01mNone\u001b[39;49;00m\u001b[43m)\u001b[49m\n\u001b[1;32m      3\u001b[0m df_users \u001b[38;5;241m=\u001b[39m pd\u001b[38;5;241m.\u001b[39mread_csv(USER_REVIEWS_DATABASE_PATH_RAW,header\u001b[38;5;241m=\u001b[39m\u001b[38;5;28;01mNone\u001b[39;00m)\n",
      "File \u001b[0;32m~/Library/Caches/pypoetry/virtualenvs/podcasts-recommender-system-RsGFuGY5-py3.12/lib/python3.12/site-packages/pandas/io/parsers/readers.py:1026\u001b[0m, in \u001b[0;36mread_csv\u001b[0;34m(filepath_or_buffer, sep, delimiter, header, names, index_col, usecols, dtype, engine, converters, true_values, false_values, skipinitialspace, skiprows, skipfooter, nrows, na_values, keep_default_na, na_filter, verbose, skip_blank_lines, parse_dates, infer_datetime_format, keep_date_col, date_parser, date_format, dayfirst, cache_dates, iterator, chunksize, compression, thousands, decimal, lineterminator, quotechar, quoting, doublequote, escapechar, comment, encoding, encoding_errors, dialect, on_bad_lines, delim_whitespace, low_memory, memory_map, float_precision, storage_options, dtype_backend)\u001b[0m\n\u001b[1;32m   1013\u001b[0m kwds_defaults \u001b[38;5;241m=\u001b[39m _refine_defaults_read(\n\u001b[1;32m   1014\u001b[0m     dialect,\n\u001b[1;32m   1015\u001b[0m     delimiter,\n\u001b[0;32m   (...)\u001b[0m\n\u001b[1;32m   1022\u001b[0m     dtype_backend\u001b[38;5;241m=\u001b[39mdtype_backend,\n\u001b[1;32m   1023\u001b[0m )\n\u001b[1;32m   1024\u001b[0m kwds\u001b[38;5;241m.\u001b[39mupdate(kwds_defaults)\n\u001b[0;32m-> 1026\u001b[0m \u001b[38;5;28;01mreturn\u001b[39;00m \u001b[43m_read\u001b[49m\u001b[43m(\u001b[49m\u001b[43mfilepath_or_buffer\u001b[49m\u001b[43m,\u001b[49m\u001b[43m \u001b[49m\u001b[43mkwds\u001b[49m\u001b[43m)\u001b[49m\n",
      "File \u001b[0;32m~/Library/Caches/pypoetry/virtualenvs/podcasts-recommender-system-RsGFuGY5-py3.12/lib/python3.12/site-packages/pandas/io/parsers/readers.py:620\u001b[0m, in \u001b[0;36m_read\u001b[0;34m(filepath_or_buffer, kwds)\u001b[0m\n\u001b[1;32m    617\u001b[0m _validate_names(kwds\u001b[38;5;241m.\u001b[39mget(\u001b[38;5;124m\"\u001b[39m\u001b[38;5;124mnames\u001b[39m\u001b[38;5;124m\"\u001b[39m, \u001b[38;5;28;01mNone\u001b[39;00m))\n\u001b[1;32m    619\u001b[0m \u001b[38;5;66;03m# Create the parser.\u001b[39;00m\n\u001b[0;32m--> 620\u001b[0m parser \u001b[38;5;241m=\u001b[39m \u001b[43mTextFileReader\u001b[49m\u001b[43m(\u001b[49m\u001b[43mfilepath_or_buffer\u001b[49m\u001b[43m,\u001b[49m\u001b[43m \u001b[49m\u001b[38;5;241;43m*\u001b[39;49m\u001b[38;5;241;43m*\u001b[39;49m\u001b[43mkwds\u001b[49m\u001b[43m)\u001b[49m\n\u001b[1;32m    622\u001b[0m \u001b[38;5;28;01mif\u001b[39;00m chunksize \u001b[38;5;129;01mor\u001b[39;00m iterator:\n\u001b[1;32m    623\u001b[0m     \u001b[38;5;28;01mreturn\u001b[39;00m parser\n",
      "File \u001b[0;32m~/Library/Caches/pypoetry/virtualenvs/podcasts-recommender-system-RsGFuGY5-py3.12/lib/python3.12/site-packages/pandas/io/parsers/readers.py:1620\u001b[0m, in \u001b[0;36mTextFileReader.__init__\u001b[0;34m(self, f, engine, **kwds)\u001b[0m\n\u001b[1;32m   1617\u001b[0m     \u001b[38;5;28mself\u001b[39m\u001b[38;5;241m.\u001b[39moptions[\u001b[38;5;124m\"\u001b[39m\u001b[38;5;124mhas_index_names\u001b[39m\u001b[38;5;124m\"\u001b[39m] \u001b[38;5;241m=\u001b[39m kwds[\u001b[38;5;124m\"\u001b[39m\u001b[38;5;124mhas_index_names\u001b[39m\u001b[38;5;124m\"\u001b[39m]\n\u001b[1;32m   1619\u001b[0m \u001b[38;5;28mself\u001b[39m\u001b[38;5;241m.\u001b[39mhandles: IOHandles \u001b[38;5;241m|\u001b[39m \u001b[38;5;28;01mNone\u001b[39;00m \u001b[38;5;241m=\u001b[39m \u001b[38;5;28;01mNone\u001b[39;00m\n\u001b[0;32m-> 1620\u001b[0m \u001b[38;5;28mself\u001b[39m\u001b[38;5;241m.\u001b[39m_engine \u001b[38;5;241m=\u001b[39m \u001b[38;5;28;43mself\u001b[39;49m\u001b[38;5;241;43m.\u001b[39;49m\u001b[43m_make_engine\u001b[49m\u001b[43m(\u001b[49m\u001b[43mf\u001b[49m\u001b[43m,\u001b[49m\u001b[43m \u001b[49m\u001b[38;5;28;43mself\u001b[39;49m\u001b[38;5;241;43m.\u001b[39;49m\u001b[43mengine\u001b[49m\u001b[43m)\u001b[49m\n",
      "File \u001b[0;32m~/Library/Caches/pypoetry/virtualenvs/podcasts-recommender-system-RsGFuGY5-py3.12/lib/python3.12/site-packages/pandas/io/parsers/readers.py:1880\u001b[0m, in \u001b[0;36mTextFileReader._make_engine\u001b[0;34m(self, f, engine)\u001b[0m\n\u001b[1;32m   1878\u001b[0m     \u001b[38;5;28;01mif\u001b[39;00m \u001b[38;5;124m\"\u001b[39m\u001b[38;5;124mb\u001b[39m\u001b[38;5;124m\"\u001b[39m \u001b[38;5;129;01mnot\u001b[39;00m \u001b[38;5;129;01min\u001b[39;00m mode:\n\u001b[1;32m   1879\u001b[0m         mode \u001b[38;5;241m+\u001b[39m\u001b[38;5;241m=\u001b[39m \u001b[38;5;124m\"\u001b[39m\u001b[38;5;124mb\u001b[39m\u001b[38;5;124m\"\u001b[39m\n\u001b[0;32m-> 1880\u001b[0m \u001b[38;5;28mself\u001b[39m\u001b[38;5;241m.\u001b[39mhandles \u001b[38;5;241m=\u001b[39m \u001b[43mget_handle\u001b[49m\u001b[43m(\u001b[49m\n\u001b[1;32m   1881\u001b[0m \u001b[43m    \u001b[49m\u001b[43mf\u001b[49m\u001b[43m,\u001b[49m\n\u001b[1;32m   1882\u001b[0m \u001b[43m    \u001b[49m\u001b[43mmode\u001b[49m\u001b[43m,\u001b[49m\n\u001b[1;32m   1883\u001b[0m \u001b[43m    \u001b[49m\u001b[43mencoding\u001b[49m\u001b[38;5;241;43m=\u001b[39;49m\u001b[38;5;28;43mself\u001b[39;49m\u001b[38;5;241;43m.\u001b[39;49m\u001b[43moptions\u001b[49m\u001b[38;5;241;43m.\u001b[39;49m\u001b[43mget\u001b[49m\u001b[43m(\u001b[49m\u001b[38;5;124;43m\"\u001b[39;49m\u001b[38;5;124;43mencoding\u001b[39;49m\u001b[38;5;124;43m\"\u001b[39;49m\u001b[43m,\u001b[49m\u001b[43m \u001b[49m\u001b[38;5;28;43;01mNone\u001b[39;49;00m\u001b[43m)\u001b[49m\u001b[43m,\u001b[49m\n\u001b[1;32m   1884\u001b[0m \u001b[43m    \u001b[49m\u001b[43mcompression\u001b[49m\u001b[38;5;241;43m=\u001b[39;49m\u001b[38;5;28;43mself\u001b[39;49m\u001b[38;5;241;43m.\u001b[39;49m\u001b[43moptions\u001b[49m\u001b[38;5;241;43m.\u001b[39;49m\u001b[43mget\u001b[49m\u001b[43m(\u001b[49m\u001b[38;5;124;43m\"\u001b[39;49m\u001b[38;5;124;43mcompression\u001b[39;49m\u001b[38;5;124;43m\"\u001b[39;49m\u001b[43m,\u001b[49m\u001b[43m \u001b[49m\u001b[38;5;28;43;01mNone\u001b[39;49;00m\u001b[43m)\u001b[49m\u001b[43m,\u001b[49m\n\u001b[1;32m   1885\u001b[0m \u001b[43m    \u001b[49m\u001b[43mmemory_map\u001b[49m\u001b[38;5;241;43m=\u001b[39;49m\u001b[38;5;28;43mself\u001b[39;49m\u001b[38;5;241;43m.\u001b[39;49m\u001b[43moptions\u001b[49m\u001b[38;5;241;43m.\u001b[39;49m\u001b[43mget\u001b[49m\u001b[43m(\u001b[49m\u001b[38;5;124;43m\"\u001b[39;49m\u001b[38;5;124;43mmemory_map\u001b[39;49m\u001b[38;5;124;43m\"\u001b[39;49m\u001b[43m,\u001b[49m\u001b[43m \u001b[49m\u001b[38;5;28;43;01mFalse\u001b[39;49;00m\u001b[43m)\u001b[49m\u001b[43m,\u001b[49m\n\u001b[1;32m   1886\u001b[0m \u001b[43m    \u001b[49m\u001b[43mis_text\u001b[49m\u001b[38;5;241;43m=\u001b[39;49m\u001b[43mis_text\u001b[49m\u001b[43m,\u001b[49m\n\u001b[1;32m   1887\u001b[0m \u001b[43m    \u001b[49m\u001b[43merrors\u001b[49m\u001b[38;5;241;43m=\u001b[39;49m\u001b[38;5;28;43mself\u001b[39;49m\u001b[38;5;241;43m.\u001b[39;49m\u001b[43moptions\u001b[49m\u001b[38;5;241;43m.\u001b[39;49m\u001b[43mget\u001b[49m\u001b[43m(\u001b[49m\u001b[38;5;124;43m\"\u001b[39;49m\u001b[38;5;124;43mencoding_errors\u001b[39;49m\u001b[38;5;124;43m\"\u001b[39;49m\u001b[43m,\u001b[49m\u001b[43m \u001b[49m\u001b[38;5;124;43m\"\u001b[39;49m\u001b[38;5;124;43mstrict\u001b[39;49m\u001b[38;5;124;43m\"\u001b[39;49m\u001b[43m)\u001b[49m\u001b[43m,\u001b[49m\n\u001b[1;32m   1888\u001b[0m \u001b[43m    \u001b[49m\u001b[43mstorage_options\u001b[49m\u001b[38;5;241;43m=\u001b[39;49m\u001b[38;5;28;43mself\u001b[39;49m\u001b[38;5;241;43m.\u001b[39;49m\u001b[43moptions\u001b[49m\u001b[38;5;241;43m.\u001b[39;49m\u001b[43mget\u001b[49m\u001b[43m(\u001b[49m\u001b[38;5;124;43m\"\u001b[39;49m\u001b[38;5;124;43mstorage_options\u001b[39;49m\u001b[38;5;124;43m\"\u001b[39;49m\u001b[43m,\u001b[49m\u001b[43m \u001b[49m\u001b[38;5;28;43;01mNone\u001b[39;49;00m\u001b[43m)\u001b[49m\u001b[43m,\u001b[49m\n\u001b[1;32m   1889\u001b[0m \u001b[43m\u001b[49m\u001b[43m)\u001b[49m\n\u001b[1;32m   1890\u001b[0m \u001b[38;5;28;01massert\u001b[39;00m \u001b[38;5;28mself\u001b[39m\u001b[38;5;241m.\u001b[39mhandles \u001b[38;5;129;01mis\u001b[39;00m \u001b[38;5;129;01mnot\u001b[39;00m \u001b[38;5;28;01mNone\u001b[39;00m\n\u001b[1;32m   1891\u001b[0m f \u001b[38;5;241m=\u001b[39m \u001b[38;5;28mself\u001b[39m\u001b[38;5;241m.\u001b[39mhandles\u001b[38;5;241m.\u001b[39mhandle\n",
      "File \u001b[0;32m~/Library/Caches/pypoetry/virtualenvs/podcasts-recommender-system-RsGFuGY5-py3.12/lib/python3.12/site-packages/pandas/io/common.py:873\u001b[0m, in \u001b[0;36mget_handle\u001b[0;34m(path_or_buf, mode, encoding, compression, memory_map, is_text, errors, storage_options)\u001b[0m\n\u001b[1;32m    868\u001b[0m \u001b[38;5;28;01melif\u001b[39;00m \u001b[38;5;28misinstance\u001b[39m(handle, \u001b[38;5;28mstr\u001b[39m):\n\u001b[1;32m    869\u001b[0m     \u001b[38;5;66;03m# Check whether the filename is to be opened in binary mode.\u001b[39;00m\n\u001b[1;32m    870\u001b[0m     \u001b[38;5;66;03m# Binary mode does not support 'encoding' and 'newline'.\u001b[39;00m\n\u001b[1;32m    871\u001b[0m     \u001b[38;5;28;01mif\u001b[39;00m ioargs\u001b[38;5;241m.\u001b[39mencoding \u001b[38;5;129;01mand\u001b[39;00m \u001b[38;5;124m\"\u001b[39m\u001b[38;5;124mb\u001b[39m\u001b[38;5;124m\"\u001b[39m \u001b[38;5;129;01mnot\u001b[39;00m \u001b[38;5;129;01min\u001b[39;00m ioargs\u001b[38;5;241m.\u001b[39mmode:\n\u001b[1;32m    872\u001b[0m         \u001b[38;5;66;03m# Encoding\u001b[39;00m\n\u001b[0;32m--> 873\u001b[0m         handle \u001b[38;5;241m=\u001b[39m \u001b[38;5;28;43mopen\u001b[39;49m\u001b[43m(\u001b[49m\n\u001b[1;32m    874\u001b[0m \u001b[43m            \u001b[49m\u001b[43mhandle\u001b[49m\u001b[43m,\u001b[49m\n\u001b[1;32m    875\u001b[0m \u001b[43m            \u001b[49m\u001b[43mioargs\u001b[49m\u001b[38;5;241;43m.\u001b[39;49m\u001b[43mmode\u001b[49m\u001b[43m,\u001b[49m\n\u001b[1;32m    876\u001b[0m \u001b[43m            \u001b[49m\u001b[43mencoding\u001b[49m\u001b[38;5;241;43m=\u001b[39;49m\u001b[43mioargs\u001b[49m\u001b[38;5;241;43m.\u001b[39;49m\u001b[43mencoding\u001b[49m\u001b[43m,\u001b[49m\n\u001b[1;32m    877\u001b[0m \u001b[43m            \u001b[49m\u001b[43merrors\u001b[49m\u001b[38;5;241;43m=\u001b[39;49m\u001b[43merrors\u001b[49m\u001b[43m,\u001b[49m\n\u001b[1;32m    878\u001b[0m \u001b[43m            \u001b[49m\u001b[43mnewline\u001b[49m\u001b[38;5;241;43m=\u001b[39;49m\u001b[38;5;124;43m\"\u001b[39;49m\u001b[38;5;124;43m\"\u001b[39;49m\u001b[43m,\u001b[49m\n\u001b[1;32m    879\u001b[0m \u001b[43m        \u001b[49m\u001b[43m)\u001b[49m\n\u001b[1;32m    880\u001b[0m     \u001b[38;5;28;01melse\u001b[39;00m:\n\u001b[1;32m    881\u001b[0m         \u001b[38;5;66;03m# Binary mode\u001b[39;00m\n\u001b[1;32m    882\u001b[0m         handle \u001b[38;5;241m=\u001b[39m \u001b[38;5;28mopen\u001b[39m(handle, ioargs\u001b[38;5;241m.\u001b[39mmode)\n",
      "\u001b[0;31mFileNotFoundError\u001b[0m: [Errno 2] No such file or directory: '/data/raw/podcasts.csv'"
     ]
    }
   ],
   "source": [
    "# Loading data \n",
    "df_podcasts = pd.read_csv(PODCASTS_DATABASE_PATH_RAW,header=None)\n",
    "df_users = pd.read_csv(USER_REVIEWS_DATABASE_PATH_RAW,header=None)"
   ]
  },
  {
   "cell_type": "code",
   "execution_count": null,
   "id": "a39c3cfb",
   "metadata": {},
   "outputs": [],
   "source": [
    "columns_pod = ['id','name','url','studio','category','episode_count','avg_rating','total_ratings','description']\n",
    "columns_users = ['id','podcasts_id','username','review_title','review','rating','date']\n",
    "\n",
    "df_podcasts.columns = columns_pod\n",
    "df_users.columns = columns_users\n",
    "df_users = df_users.drop('id', axis=1)"
   ]
  },
  {
   "cell_type": "code",
   "execution_count": null,
   "id": "5f6b52e5",
   "metadata": {},
   "outputs": [],
   "source": [
    "df_podcasts.info()"
   ]
  },
  {
   "cell_type": "code",
   "execution_count": null,
   "id": "d880cad4",
   "metadata": {},
   "outputs": [],
   "source": [
    "# % of Null values\n",
    "percentage_of_null_values = df_podcasts.isnull().sum()/df_podcasts.shape[0] * 100"
   ]
  },
  {
   "cell_type": "code",
   "execution_count": null,
   "id": "8d4d025f",
   "metadata": {},
   "outputs": [],
   "source": [
    "df_null_distribution = pd.DataFrame(df_podcasts.isnull().sum()/df_podcasts.shape[0] * 100).reset_index()\n",
    "df_null_distribution.columns = [['field in df_podcasts','% of null values']]"
   ]
  },
  {
   "cell_type": "markdown",
   "id": "23f2013a",
   "metadata": {},
   "source": [
    "# Distribution of null values"
   ]
  },
  {
   "cell_type": "code",
   "execution_count": null,
   "id": "55cdfc52",
   "metadata": {},
   "outputs": [],
   "source": [
    "print('Distribution of null values')\n",
    "df_null_distribution.style.background_gradient()"
   ]
  },
  {
   "cell_type": "markdown",
   "id": "595f6b9c",
   "metadata": {},
   "source": [
    "studio column has 61% of null values and also it won't be that useful for recommendations"
   ]
  },
  {
   "cell_type": "markdown",
   "id": "ab05931c",
   "metadata": {},
   "source": [
    "# Top 10 Podcasts"
   ]
  },
  {
   "cell_type": "code",
   "execution_count": null,
   "id": "d2b136b2",
   "metadata": {},
   "outputs": [],
   "source": [
    "df_podcasts_top_10 = df_podcasts[df_podcasts['total_ratings'] > 70000][['name','category','episode_count','avg_rating','total_ratings']].reset_index()\n",
    "df_podcasts_top_10 = df_podcasts_top_10.drop('index', axis=1)\n"
   ]
  },
  {
   "cell_type": "code",
   "execution_count": null,
   "id": "ffe60daf",
   "metadata": {},
   "outputs": [],
   "source": [
    "df = df_podcasts_top_10\n",
    "fig = px.bar(df.sort_values(by='total_ratings',ascending=False), x='name', y='avg_rating',\n",
    "             hover_data=['total_ratings', 'episode_count'], color='total_ratings',\n",
    "             labels={'avg_rating':'average rating','name':'podcast'})\n",
    "fig.update_layout(title='Top 10 Podcasts based on ratings')\n",
    "fig.update_yaxes(tickfont_family=\"Arial Black\")\n",
    "fig.update_xaxes(tickfont_family=\"Arial Black\")\n",
    "fig.show()"
   ]
  },
  {
   "cell_type": "markdown",
   "id": "d8a5c398",
   "metadata": {},
   "source": [
    "# Top 10 podcasts with most episodes"
   ]
  },
  {
   "cell_type": "code",
   "execution_count": null,
   "id": "73abc42e",
   "metadata": {},
   "outputs": [],
   "source": [
    "import plotly.express as px\n",
    "df = df_podcasts\n",
    "fig = px.histogram(df, x=\"episode_count\",nbins=20,marginal=\"box\",\n",
    "                   labels={'episode_count':'No of episodes in a podcast'})\n",
    "fig.update_layout(title='Distribution of no of episodes')\n",
    "fig.update_yaxes(tickfont_family=\"Arial Black\")\n",
    "fig.update_xaxes(tickfont_family=\"Arial Black\")\n",
    "fig.show()\n"
   ]
  },
  {
   "cell_type": "markdown",
   "id": "368a5cff",
   "metadata": {},
   "source": [
    "`The distribution is highly-skewed; the median number of episodes is 140 whereas the maximum number of episodes is around 2000.`"
   ]
  },
  {
   "cell_type": "code",
   "execution_count": null,
   "id": "7389a87d",
   "metadata": {},
   "outputs": [],
   "source": [
    "df_category_avg_episode_count  = pd.DataFrame(df_podcasts.groupby(['category'])['episode_count'].mean().sort_values(ascending=False)).reset_index()\n",
    "df_category_avg_episode_count.rename(columns={\"episode_count\": \"avg_episode_count\"},inplace=True)\n"
   ]
  },
  {
   "cell_type": "code",
   "execution_count": null,
   "id": "0b99b4b7",
   "metadata": {},
   "outputs": [],
   "source": [
    "df = df_category_avg_episode_count\n",
    "fig = px.bar(df, x='category', y='avg_episode_count', color='avg_episode_count',\n",
    "             labels={'avg_episode_count':'average episode count'})\n",
    "fig.update_layout(title='Category wise average no of episodes')\n",
    "fig.update_yaxes(tickfont_family=\"Arial Black\")\n",
    "fig.update_xaxes(tickfont_family=\"Arial Black\")\n",
    "fig.show()"
   ]
  },
  {
   "cell_type": "markdown",
   "id": "ffd21ee2",
   "metadata": {},
   "source": [
    "# Distribution of top 5 categories"
   ]
  },
  {
   "cell_type": "code",
   "execution_count": null,
   "id": "a9e6a42f",
   "metadata": {},
   "outputs": [],
   "source": [
    "df_top_5_categories = df_podcasts[(df_podcasts['category'] == 'Business') | (df_podcasts['category'] == 'Sports') |\n",
    "                (df_podcasts['category'] == 'News') | (df_podcasts['category'] == 'Science') |\n",
    "                (df_podcasts['category'] == 'Leisure')]"
   ]
  },
  {
   "cell_type": "code",
   "execution_count": null,
   "id": "b71d59cd",
   "metadata": {},
   "outputs": [],
   "source": [
    "import plotly.express as px\n",
    "df = df_top_5_categories\n",
    "fig = px.histogram(df, x=\"episode_count\",nbins=20,marginal=\"box\",color='category',\n",
    "                   labels={'episode_count':'No of episodes in a podcast'})\n",
    "fig.update_layout(title='Distribution of no of episodes for categories :: News , Sports, Science, Business, Leisure')\n",
    "fig.update_yaxes(tickfont_family=\"Arial Black\")\n",
    "fig.update_xaxes(tickfont_family=\"Arial Black\")\n",
    "fig.show()\n"
   ]
  },
  {
   "cell_type": "markdown",
   "id": "bed0a517",
   "metadata": {},
   "source": [
    "# Ratings distribution"
   ]
  },
  {
   "cell_type": "code",
   "execution_count": null,
   "id": "de5a3f9a",
   "metadata": {},
   "outputs": [],
   "source": [
    "df_category_avg_rating  = pd.DataFrame(df_podcasts.groupby(['category'])['avg_rating'].mean().sort_values(ascending=False)).reset_index()\n",
    "df_category_avg_rating.rename(columns={\"avg_rating\": \"avg_rating_per_category\"},inplace=True)\n"
   ]
  },
  {
   "cell_type": "code",
   "execution_count": null,
   "id": "7f9855b9",
   "metadata": {},
   "outputs": [],
   "source": [
    "df = df_category_avg_rating\n",
    "fig = px.bar(df, x='category', y='avg_rating_per_category', color='avg_rating_per_category',\n",
    "             labels={'avg_rating_per_category':'average rating per category'})\n",
    "fig.update_layout(title='Category wise average rating')\n",
    "fig.update_yaxes(tickfont_family=\"Arial Black\")\n",
    "fig.update_xaxes(tickfont_family=\"Arial Black\")\n",
    "fig.show()"
   ]
  },
  {
   "cell_type": "code",
   "execution_count": null,
   "id": "c0d473a3",
   "metadata": {},
   "outputs": [],
   "source": [
    "import plotly.express as px\n",
    "df = df_podcasts\n",
    "fig = px.histogram(df, x=\"avg_rating\",nbins=20,marginal=\"box\",\n",
    "                   labels={'episode_count':'No of episodes in a podcast'})\n",
    "fig.update_layout(title='Distribution of average ratings')\n",
    "fig.update_yaxes(tickfont_family=\"Arial Black\")\n",
    "fig.update_xaxes(tickfont_family=\"Arial Black\")\n",
    "fig.show()"
   ]
  },
  {
   "cell_type": "code",
   "execution_count": null,
   "id": "d7827829",
   "metadata": {},
   "outputs": [],
   "source": [
    "df_top_5_categories = df_podcasts[(df_podcasts['category'] == 'Religion & Spirituality') | (df_podcasts['category'] == 'Business') |\n",
    "                (df_podcasts['category'] == 'Education') | (df_podcasts['category'] == 'Comedy') |\n",
    "                (df_podcasts['category'] == 'Health & Fitness')]"
   ]
  },
  {
   "cell_type": "code",
   "execution_count": null,
   "id": "fe85ffcf",
   "metadata": {},
   "outputs": [],
   "source": [
    "import plotly.express as px\n",
    "df = df_top_5_categories\n",
    "fig = px.histogram(df, x=\"avg_rating\",nbins=20,marginal=\"box\",color='category',\n",
    "                   labels={'avg_rating':'average rating per category'})\n",
    "fig.update_layout(title='Distribution of average rating for categories :: Religion & Spirituality , Business, Education, Comedy, Health & Fitness')\n",
    "fig.update_yaxes(tickfont_family=\"Arial Black\")\n",
    "fig.update_xaxes(tickfont_family=\"Arial Black\")\n",
    "fig.show()\n"
   ]
  },
  {
   "cell_type": "code",
   "execution_count": null,
   "id": "a2ac079c",
   "metadata": {},
   "outputs": [],
   "source": [
    "merged = pd.merge(df_podcasts,df_users, left_on = 'id', right_on = 'podcasts_id', how = 'inner')\n",
    "merged = merged[['podcasts_id','name','url','studio','category','episode_count','avg_rating','total_ratings','description', \n",
    "       'username','review_title','review','rating','date']]\n",
    "df_users_ratings = merged[['podcasts_id','name','username','category','rating']]"
   ]
  },
  {
   "cell_type": "code",
   "execution_count": null,
   "id": "ab6b6ade",
   "metadata": {},
   "outputs": [],
   "source": [
    "\n",
    "import plotly.express as px\n",
    "df = df_users_ratings\n",
    "fig = px.histogram(df, x=\"rating\",nbins=10,color='rating',\n",
    "                   labels={'episode_count':'No of episodes in a podcast'})\n",
    "fig.update_layout(title='Distribution of ratings by users')\n",
    "fig.update_yaxes(tickfont_family=\"Arial Black\")\n",
    "fig.update_xaxes(tickfont_family=\"Arial Black\")"
   ]
  },
  {
   "cell_type": "code",
   "execution_count": null,
   "id": "a727142c",
   "metadata": {},
   "outputs": [],
   "source": [
    "df_top_10_rated_podcasts = pd.DataFrame(df_users_ratings.groupby(by='name')['rating'].count().sort_values(ascending=False)[0:10]).reset_index()\n",
    "df_top_10_rated_podcasts.rename(columns={\"rating\": \"no of ratings per podcast\"},inplace=True)"
   ]
  },
  {
   "cell_type": "code",
   "execution_count": null,
   "id": "1f60cd36",
   "metadata": {},
   "outputs": [],
   "source": [
    "df_top_10_rated_podcasts"
   ]
  },
  {
   "cell_type": "code",
   "execution_count": null,
   "id": "a5201189",
   "metadata": {},
   "outputs": [],
   "source": [
    "df = df_top_10_rated_podcasts\n",
    "fig = px.bar(df, x='name', y='no of ratings per podcast', color='no of ratings per podcast',)\n",
    "fig.update_layout(title='Top 10 Podcasts based on number of ratings')\n",
    "fig.update_yaxes(tickfont_family=\"Arial Black\")\n",
    "fig.update_xaxes(tickfont_family=\"Arial Black\")\n",
    "fig.show()"
   ]
  },
  {
   "cell_type": "code",
   "execution_count": null,
   "id": "cc93f396",
   "metadata": {},
   "outputs": [],
   "source": [
    "df_podcasts.to_csv(PODCASTS_DATABASE_PATH_PROCESSED + '/' + \"df_podcasts.csv\")\n",
    "df_users.to_csv(USER_REVIEWS_DATABASE_PATH_PROCESSED + '/' + \"df_users.csv\")"
   ]
  },
  {
   "cell_type": "code",
   "execution_count": null,
   "id": "650db8bf",
   "metadata": {},
   "outputs": [],
   "source": []
  }
 ],
 "metadata": {
  "kernelspec": {
   "display_name": "Python 3 (ipykernel)",
   "language": "python",
   "name": "python3"
  },
  "language_info": {
   "codemirror_mode": {
    "name": "ipython",
    "version": 3
   },
   "file_extension": ".py",
   "mimetype": "text/x-python",
   "name": "python",
   "nbconvert_exporter": "python",
   "pygments_lexer": "ipython3",
   "version": "3.12.4"
  },
  "vscode": {
   "interpreter": {
    "hash": "8e02da1a44ae18450cb5af5e09f6e0e7f89156b4e35bd0658bcd16be5d7b1a8b"
   }
  }
 },
 "nbformat": 4,
 "nbformat_minor": 5
}
